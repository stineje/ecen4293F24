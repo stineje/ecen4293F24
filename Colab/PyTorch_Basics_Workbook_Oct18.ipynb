{
  "nbformat": 4,
  "nbformat_minor": 0,
  "metadata": {
    "colab": {
      "provenance": []
    },
    "language_info": {
      "name": "python"
    },
    "kernelspec": {
      "name": "python3",
      "display_name": "Python 3"
    }
  },
  "cells": [
    {
      "cell_type": "markdown",
      "metadata": {
        "id": "rBcKjJ9EpbTa"
      },
      "source": [
        "# ECEN 4293:  Interactive PyTorch Operations with Colab\n",
        "In this notebook, you will practice some basic operations in PyTorch, such as addition, matrix multiplication, and other tensor operations. Each section will ask you to perform a specific operation, and you'll write the code to perform the task.\n",
        "\n",
        "Let's begin!"
      ]
    },
    {
      "cell_type": "markdown",
      "source": [
        "## Using PyTorch\n",
        "\n",
        "PyTorch is an open-source deep learning framework developed by Facebook’s AI Research lab (FAIR). It is widely used for building and training machine learning models, particularly neural networks, due to its ease of use, flexibility, and dynamic computational graph system.\n",
        "\n",
        "### Summary of PyTorch Advantages:\n",
        "1.\tDynamic Computation Graphs: Easier to debug and more flexible compared to static frameworks.\n",
        "2.\tAutomatic Differentiation: Built-in support for computing gradients and backpropagation.\n",
        "3.\tGPU Acceleration: Easy to move computations to the GPU.\n",
        "4.\tModular and Flexible: Extensible modules for building complex neural networks.\n",
        "5.\tLarge Ecosystem: Libraries for computer vision, NLP, audio processing, and more.\n",
        "6.\tResearch-Oriented: Widely used in academia and research.\n",
        "7.\tStrong Python Integration: Works seamlessly with Python and Python-based tools.\n",
        "\n",
        "### Use on Colab\n",
        "\n",
        "Google Colab is a great environment to run PyTorch code because it provides free access to GPUs and TPUs for accelerated computation, making it ideal for deep learning tasks.\n",
        "\n",
        "Using PyTorch on Google Colab is a highly effective way to train models, experiment with deep learning, and leverage free GPU or TPU resources. With easy access to hardware accelerators, integration with Google Drive, and pre-installed libraries, Colab makes it very convenient for both beginners and experienced researchers to build, train, and test models.\n",
        "\n",
        "### Using GPUs on Colab\n",
        "\n",
        "By default, Colab runs on a CPU. To use a GPU for accelerated computation, you need to switch the runtime to use a GPU.\n",
        "\n",
        "Steps to Enable GPU:\n",
        "\n",
        "1.\tGo to Runtime > Change runtime type.\n",
        "2.\tIn the popup window, under Hardware accelerator, choose GPU.\n",
        "3.\tClick Save.\n",
        "\n",
        "### What are TPUs\n",
        "\n",
        "Google Colab also provides access to TPUs (Tensor Processing Units), which are optimized for training large machine learning models. However, working with TPUs in PyTorch requires the use of torch_xla, a package specifically designed for PyTorch-TPU integration.  \n",
        "\n",
        "### Setting up for PyTorch\n",
        "\n",
        "Setting up PyTorch is relatively straightforward and can be done in various environments depending on your needs (e.g., local machine, cloud services like Google Colab, or a virtual environment).\n"
      ],
      "metadata": {
        "id": "-zlOwKCz2j4Z"
      }
    },
    {
      "cell_type": "code",
      "execution_count": 65,
      "metadata": {
        "id": "A5tLX92LpbTb",
        "colab": {
          "base_uri": "https://localhost:8080/"
        },
        "outputId": "53c0cbd8-dbb5-4d46-f7ed-21fee07a0f9c"
      },
      "outputs": [
        {
          "output_type": "stream",
          "name": "stdout",
          "text": [
            "Using torch 2.4.1+cu121\n"
          ]
        }
      ],
      "source": [
        "# Basic Setup\n",
        "import torch\n",
        "print(\"Using torch\", torch.__version__)"
      ]
    },
    {
      "cell_type": "markdown",
      "source": [
        "At the time of writing this tutorial (October 2024), the current stable version is 2.4. You should therefore see the output Using torch 2.4.1, eventually with some extension for the CUDA version on Colab. In case you use the dl2024 environment, you should see Using torch 2.4.1. In general, it is recommended to keep the PyTorch version updated to the newest one. If you see a lower version number than 2.3, make sure you have installed the correct environment, or ask us. In case PyTorch 2.5 or newer will be published during the time of the course, don't worry. The interface between PyTorch versions doesn't change too much, and hence all code should also be runnable with newer versions.\n",
        "As in every machine learning framework, PyTorch provides functions that are stochastic like generating random numbers. However, a very good practice is to setup your code to be reproducible with the exact same random numbers. This is why we set a seed below."
      ],
      "metadata": {
        "id": "CYP8qZuKB2NF"
      }
    },
    {
      "cell_type": "code",
      "source": [
        "torch.manual_seed(42) # Setting the seed"
      ],
      "metadata": {
        "colab": {
          "base_uri": "https://localhost:8080/"
        },
        "id": "6vY6P97LB_XZ",
        "outputId": "6b9745bc-6fc8-4616-9f8b-469b68f15d8c"
      },
      "execution_count": 66,
      "outputs": [
        {
          "output_type": "execute_result",
          "data": {
            "text/plain": [
              "<torch._C.Generator at 0x7daa281c6590>"
            ]
          },
          "metadata": {},
          "execution_count": 66
        }
      ]
    },
    {
      "cell_type": "markdown",
      "source": [
        "### Tensors\n",
        "\n",
        "Tensors are the PyTorch equivalent to Numpy arrays, with the addition to also have support for GPU acceleration (more on that later).\n",
        "The name \"tensor\" is a generalization of concepts you already know. For instance, a vector is a 1-D tensor, and a matrix a 2-D tensor. When working with neural networks, we will use tensors of various shapes and number of dimensions.\n",
        "\n",
        "Most common functions you know from numpy can be used on tensors as well. Actually, since numpy arrays are so similar to tensors, we can convert most tensors to numpy arrays (and back) but we don't need it too often.\n",
        "\n",
        "#### Initialization\n",
        "\n",
        "Let's first start by looking at different ways of creating a tensor. There are many possible options, the simplest one is to call `torch.Tensor` passing the desired shape as input argument:"
      ],
      "metadata": {
        "id": "qmmmwRl1CUIm"
      }
    },
    {
      "cell_type": "code",
      "source": [
        "x = torch.Tensor(2, 3, 4)\n",
        "print(x)"
      ],
      "metadata": {
        "colab": {
          "base_uri": "https://localhost:8080/"
        },
        "id": "2cKZpbmCCX-q",
        "outputId": "6ff68f96-9eb9-403d-89e8-a413e1aca728"
      },
      "execution_count": 67,
      "outputs": [
        {
          "output_type": "stream",
          "name": "stdout",
          "text": [
            "tensor([[[ 8.3382e-10,  4.2957e-05,  1.6536e-04,  1.2812e-11],\n",
            "         [ 3.2918e-09,  3.2505e+21,  1.3353e-08,  1.2752e+16],\n",
            "         [ 1.3452e-43,  0.0000e+00,  1.3452e-43,  0.0000e+00]],\n",
            "\n",
            "        [[-1.7598e-26,  7.0065e-45,  5.0447e-44,  0.0000e+00],\n",
            "         [ 0.0000e+00,  0.0000e+00,  0.0000e+00,  0.0000e+00],\n",
            "         [ 0.0000e+00,  5.3179e+22,  2.0943e+23,  5.2476e-08]]])\n"
          ]
        }
      ]
    },
    {
      "cell_type": "markdown",
      "source": [
        "The function `torch.Tensor` allocates memory for the desired tensor, but reuses any values that have already been in the memory. To directly assign values to the tensor during initialization, there are many alternatives including:\n",
        "\n",
        "* `torch.zeros`: Creates a tensor filled with zeros\n",
        "* `torch.ones`: Creates a tensor filled with ones\n",
        "* `torch.rand`: Creates a tensor with random values uniformly sampled between 0 and 1\n",
        "* `torch.randn`: Creates a tensor with random values sampled from a normal distribution with mean 0 and variance 1\n",
        "* `torch.arange`: Creates a tensor containing the values $N,N+1,N+2,...,M$\n",
        "* `torch.Tensor` (input list): Creates a tensor from the list elements you provide"
      ],
      "metadata": {
        "id": "iVgiCD-tCdBV"
      }
    },
    {
      "cell_type": "code",
      "source": [
        "# Create a tensor from a (nested) list\n",
        "x = torch.Tensor([[1, 2], [3, 4]])\n",
        "print(x)"
      ],
      "metadata": {
        "colab": {
          "base_uri": "https://localhost:8080/"
        },
        "id": "Vf_qVD1gCi5Y",
        "outputId": "c0359f2d-68ab-4b40-fb6d-33feba4a73d1"
      },
      "execution_count": 68,
      "outputs": [
        {
          "output_type": "stream",
          "name": "stdout",
          "text": [
            "tensor([[1., 2.],\n",
            "        [3., 4.]])\n"
          ]
        }
      ]
    },
    {
      "cell_type": "code",
      "source": [
        "# Create a tensor with random values between 0 and 1 with the shape [2, 3, 4]\n",
        "x = torch.rand(2, 3, 4)\n",
        "print(x)"
      ],
      "metadata": {
        "colab": {
          "base_uri": "https://localhost:8080/"
        },
        "id": "RGainh8UClue",
        "outputId": "66be3083-4c76-448a-e63a-e587ea93dd64"
      },
      "execution_count": 69,
      "outputs": [
        {
          "output_type": "stream",
          "name": "stdout",
          "text": [
            "tensor([[[0.8823, 0.9150, 0.3829, 0.9593],\n",
            "         [0.3904, 0.6009, 0.2566, 0.7936],\n",
            "         [0.9408, 0.1332, 0.9346, 0.5936]],\n",
            "\n",
            "        [[0.8694, 0.5677, 0.7411, 0.4294],\n",
            "         [0.8854, 0.5739, 0.2666, 0.6274],\n",
            "         [0.2696, 0.4414, 0.2969, 0.8317]]])\n"
          ]
        }
      ]
    },
    {
      "cell_type": "markdown",
      "source": [
        "You can obtain the shape of a tensor in the same way as in numpy (`x.shape`), or using the `.size` method:"
      ],
      "metadata": {
        "id": "2OdA8OSlCroD"
      }
    },
    {
      "cell_type": "code",
      "source": [
        "shape = x.shape\n",
        "print(\"Shape:\", x.shape)\n",
        "\n",
        "size = x.size()\n",
        "print(\"Size:\", size)\n",
        "\n",
        "dim1, dim2, dim3 = x.size()\n",
        "print(\"Size:\", dim1, dim2, dim3)"
      ],
      "metadata": {
        "colab": {
          "base_uri": "https://localhost:8080/"
        },
        "id": "moQybiJCCvy4",
        "outputId": "ee021ff5-f79a-472e-bcd5-bcadc4b96c77"
      },
      "execution_count": 70,
      "outputs": [
        {
          "output_type": "stream",
          "name": "stdout",
          "text": [
            "Shape: torch.Size([2, 3, 4])\n",
            "Size: torch.Size([2, 3, 4])\n",
            "Size: 2 3 4\n"
          ]
        }
      ]
    },
    {
      "cell_type": "markdown",
      "source": [
        "#### Tensor to Numpy, and Numpy to Tensor\n",
        "\n",
        "Tensors can be converted to numpy arrays, and numpy arrays back to tensors. To transform a numpy array into a tensor, we can use the function `torch.from_numpy`:"
      ],
      "metadata": {
        "id": "Ev7Ftp0VC1PF"
      }
    },
    {
      "cell_type": "code",
      "source": [
        "np_arr = np.array([[1, 2], [3, 4]])\n",
        "tensor = torch.from_numpy(np_arr)\n",
        "\n",
        "print(\"Numpy array:\", np_arr)\n",
        "print(\"PyTorch tensor:\", tensor)"
      ],
      "metadata": {
        "colab": {
          "base_uri": "https://localhost:8080/"
        },
        "id": "jK2XTfJIC5Y5",
        "outputId": "a207aa59-1790-4ced-f873-1f26f81a129d"
      },
      "execution_count": 71,
      "outputs": [
        {
          "output_type": "stream",
          "name": "stdout",
          "text": [
            "Numpy array: [[1 2]\n",
            " [3 4]]\n",
            "PyTorch tensor: tensor([[1, 2],\n",
            "        [3, 4]])\n"
          ]
        }
      ]
    },
    {
      "cell_type": "markdown",
      "source": [
        "*To* transform a PyTorch tensor back to a numpy array, we can use the function `.numpy()` on tensors:"
      ],
      "metadata": {
        "id": "OkmLsIfiC_1A"
      }
    },
    {
      "cell_type": "code",
      "source": [
        "tensor = torch.arange(4)\n",
        "np_arr = tensor.numpy()\n",
        "\n",
        "print(\"PyTorch tensor:\", tensor)\n",
        "print(\"Numpy array:\", np_arr)"
      ],
      "metadata": {
        "colab": {
          "base_uri": "https://localhost:8080/"
        },
        "id": "CkaL4mKLDGVm",
        "outputId": "4e7ee84c-85a3-435b-df1a-18fbbf44f157"
      },
      "execution_count": 72,
      "outputs": [
        {
          "output_type": "stream",
          "name": "stdout",
          "text": [
            "PyTorch tensor: tensor([0, 1, 2, 3])\n",
            "Numpy array: [0 1 2 3]\n"
          ]
        }
      ]
    },
    {
      "cell_type": "markdown",
      "source": [
        "#### Operations\n",
        "\n",
        "Most operations that exist in numpy, also exist in PyTorch. A full list of operations can be found in the [PyTorch documentation](https://pytorch.org/docs/stable/tensors.html#), but we will review the most important ones here.\n",
        "\n",
        "The simplest operation is to add two tensors:"
      ],
      "metadata": {
        "id": "rBKHQiOWDQb1"
      }
    },
    {
      "cell_type": "code",
      "source": [
        "x1 = torch.rand(2, 3)\n",
        "x2 = torch.rand(2, 3)\n",
        "y = x1 + x2\n",
        "\n",
        "print(\"X1\", x1)\n",
        "print(\"X2\", x2)\n",
        "print(\"Y\", y)"
      ],
      "metadata": {
        "colab": {
          "base_uri": "https://localhost:8080/"
        },
        "id": "cOuuOqxuDUWb",
        "outputId": "78f0bf04-76eb-4e02-fda0-82d9c46002f9"
      },
      "execution_count": 73,
      "outputs": [
        {
          "output_type": "stream",
          "name": "stdout",
          "text": [
            "X1 tensor([[0.1053, 0.2695, 0.3588],\n",
            "        [0.1994, 0.5472, 0.0062]])\n",
            "X2 tensor([[0.9516, 0.0753, 0.8860],\n",
            "        [0.5832, 0.3376, 0.8090]])\n",
            "Y tensor([[1.0569, 0.3448, 1.2448],\n",
            "        [0.7826, 0.8848, 0.8151]])\n"
          ]
        }
      ]
    },
    {
      "cell_type": "markdown",
      "source": [
        "Calling `x1 + x2` creates a new tensor containing the sum of the two inputs. However, we can also use in-place operations that are applied directly on the memory of a tensor. We therefore change the values of `x2` without the chance to re-accessing the values of `x2` before the operation. An example is shown below:"
      ],
      "metadata": {
        "id": "JeVVdGQDDbFR"
      }
    },
    {
      "cell_type": "code",
      "source": [
        "x1 = torch.rand(2, 3)\n",
        "x2 = torch.rand(2, 3)\n",
        "print(\"X1 (before)\", x1)\n",
        "print(\"X2 (before)\", x2)\n",
        "\n",
        "x2.add_(x1)\n",
        "print(\"X1 (after)\", x1)\n",
        "print(\"X2 (after)\", x2)"
      ],
      "metadata": {
        "colab": {
          "base_uri": "https://localhost:8080/"
        },
        "id": "B_6TGsIjDeQD",
        "outputId": "c1c8e5f3-cc55-4aa7-ead7-939344737e87"
      },
      "execution_count": 74,
      "outputs": [
        {
          "output_type": "stream",
          "name": "stdout",
          "text": [
            "X1 (before) tensor([[0.5779, 0.9040, 0.5547],\n",
            "        [0.3423, 0.6343, 0.3644]])\n",
            "X2 (before) tensor([[0.7104, 0.9464, 0.7890],\n",
            "        [0.2814, 0.7886, 0.5895]])\n",
            "X1 (after) tensor([[0.5779, 0.9040, 0.5547],\n",
            "        [0.3423, 0.6343, 0.3644]])\n",
            "X2 (after) tensor([[1.2884, 1.8504, 1.3437],\n",
            "        [0.6237, 1.4230, 0.9539]])\n"
          ]
        }
      ]
    },
    {
      "cell_type": "markdown",
      "source": [
        "In-place operations are usually marked with a underscore postfix (e.g. \"add_\" instead of \"add\").\n",
        "\n",
        "Another common operation aims at changing the shape of a tensor. A tensor of size (2,3) can be re-organized to any other shape with the same number of elements (e.g. a tensor of size (6), or (3,2), ...). In PyTorch, this operation is called `view`:"
      ],
      "metadata": {
        "id": "11CvXvswDir-"
      }
    },
    {
      "cell_type": "code",
      "source": [
        "x = torch.arange(6)\n",
        "print(\"X\", x)"
      ],
      "metadata": {
        "colab": {
          "base_uri": "https://localhost:8080/"
        },
        "id": "xS4vZiV4DmWn",
        "outputId": "9d5ef660-4c0f-44d8-c2db-028e69522e46"
      },
      "execution_count": 75,
      "outputs": [
        {
          "output_type": "stream",
          "name": "stdout",
          "text": [
            "X tensor([0, 1, 2, 3, 4, 5])\n"
          ]
        }
      ]
    },
    {
      "cell_type": "code",
      "source": [
        "x = x.view(2, 3)\n",
        "print(\"X\", x)"
      ],
      "metadata": {
        "colab": {
          "base_uri": "https://localhost:8080/"
        },
        "id": "S89hNUlrDojq",
        "outputId": "ba41072b-4b40-4663-9c23-892b2ee88816"
      },
      "execution_count": 76,
      "outputs": [
        {
          "output_type": "stream",
          "name": "stdout",
          "text": [
            "X tensor([[0, 1, 2],\n",
            "        [3, 4, 5]])\n"
          ]
        }
      ]
    },
    {
      "cell_type": "code",
      "source": [
        "x = x.permute(1, 0) # Swapping dimension 0 and 1\n",
        "print(\"X\", x)"
      ],
      "metadata": {
        "colab": {
          "base_uri": "https://localhost:8080/"
        },
        "id": "H0zunYPZDsus",
        "outputId": "6ac3b1ff-1278-4b23-9c97-a4fb5eee1a9b"
      },
      "execution_count": 77,
      "outputs": [
        {
          "output_type": "stream",
          "name": "stdout",
          "text": [
            "X tensor([[0, 3],\n",
            "        [1, 4],\n",
            "        [2, 5]])\n"
          ]
        }
      ]
    },
    {
      "cell_type": "markdown",
      "source": [
        "Other commonly used operations (discussed in class) include matrix multiplications, which are essential for neural networks. Quite often, we have an input vector $\\mathbf{x}$, which is transformed using a learned weight matrix $\\mathbf{W}$. There are multiple ways and functions to perform matrix multiplication, some of which we list below:\n",
        "\n",
        "* `torch.matmul`: Performs the matrix product over two tensors, where the specific behavior depends on the dimensions. If both inputs are matrices (2-dimensional tensors), it performs the standard matrix product. For higher dimensional inputs, the function supports broadcasting (for details see the [documentation](https://pytorch.org/docs/stable/generated/torch.matmul.html?highlight=matmul#torch.matmul)). Can also be written as `a @ b`, similar to numpy.\n",
        "* `torch.mm`: Performs the matrix product over two matrices, but doesn't support broadcasting (see [documentation](https://pytorch.org/docs/stable/generated/torch.mm.html?highlight=torch%20mm#torch.mm))\n",
        "* `torch.bmm`: Performs the matrix product with a support batch dimension. If the first tensor $T$ is of shape ($b\\times n\\times m$), and the second tensor $R$ ($b\\times m\\times p$), the output $O$ is of shape ($b\\times n\\times p$), and has been calculated by performing $b$ matrix multiplications of the submatrices of $T$ and $R$: $O_i = T_i @ R_i$\n",
        "* `torch.einsum`: Performs matrix multiplications and more (i.e. sums of products) using the Einstein summation convention.\n",
        "\n",
        "Usually, we use `torch.matmul` or `torch.bmm`. We can try a matrix multiplication with `torch.matmul` below."
      ],
      "metadata": {
        "id": "S0rPlxbvDvlQ"
      }
    },
    {
      "cell_type": "code",
      "source": [
        "x = torch.arange(6)\n",
        "x = x.view(2, 3)\n",
        "print(\"X\", x)"
      ],
      "metadata": {
        "colab": {
          "base_uri": "https://localhost:8080/"
        },
        "id": "kvaC7E7TD1m8",
        "outputId": "33d630b0-3106-47b8-bf19-a3b66ada80f4"
      },
      "execution_count": 78,
      "outputs": [
        {
          "output_type": "stream",
          "name": "stdout",
          "text": [
            "X tensor([[0, 1, 2],\n",
            "        [3, 4, 5]])\n"
          ]
        }
      ]
    },
    {
      "cell_type": "code",
      "source": [
        "W = torch.arange(9).view(3, 3) # We can also stack multiple operations in a single line\n",
        "print(\"W\", W)"
      ],
      "metadata": {
        "colab": {
          "base_uri": "https://localhost:8080/"
        },
        "id": "zIxrsN_-D3r3",
        "outputId": "1b6c8f4d-6e1a-46e2-c9cf-74dcd65d6e72"
      },
      "execution_count": 79,
      "outputs": [
        {
          "output_type": "stream",
          "name": "stdout",
          "text": [
            "W tensor([[0, 1, 2],\n",
            "        [3, 4, 5],\n",
            "        [6, 7, 8]])\n"
          ]
        }
      ]
    },
    {
      "cell_type": "code",
      "source": [
        "h = torch.matmul(x, W) # Verify the result by calculating it by hand too!\n",
        "print(\"h\", h)"
      ],
      "metadata": {
        "colab": {
          "base_uri": "https://localhost:8080/"
        },
        "id": "2Nbr6WFJD5oW",
        "outputId": "d1320e27-2bb4-481e-9bd5-e9446f21e15c"
      },
      "execution_count": 80,
      "outputs": [
        {
          "output_type": "stream",
          "name": "stdout",
          "text": [
            "h tensor([[15, 18, 21],\n",
            "        [42, 54, 66]])\n"
          ]
        }
      ]
    },
    {
      "cell_type": "markdown",
      "source": [
        "#### Indexing\n",
        "\n",
        "We often have the situation where we need to select a part of a tensor. Indexing works just like in numpy, so let's try it:"
      ],
      "metadata": {
        "id": "ptwk39U4D-wx"
      }
    },
    {
      "cell_type": "code",
      "source": [
        "x = torch.arange(12).view(3, 4)\n",
        "print(\"X\", x)"
      ],
      "metadata": {
        "colab": {
          "base_uri": "https://localhost:8080/"
        },
        "id": "aRIzykEzEB6T",
        "outputId": "caf108d3-ca4b-497f-e808-5f9868916b38"
      },
      "execution_count": 81,
      "outputs": [
        {
          "output_type": "stream",
          "name": "stdout",
          "text": [
            "X tensor([[ 0,  1,  2,  3],\n",
            "        [ 4,  5,  6,  7],\n",
            "        [ 8,  9, 10, 11]])\n"
          ]
        }
      ]
    },
    {
      "cell_type": "code",
      "source": [
        "print(x[:, 1])   # Second column"
      ],
      "metadata": {
        "colab": {
          "base_uri": "https://localhost:8080/"
        },
        "id": "Mbpl73NnEE3u",
        "outputId": "497c9664-997a-4a44-e90e-a70773757373"
      },
      "execution_count": 82,
      "outputs": [
        {
          "output_type": "stream",
          "name": "stdout",
          "text": [
            "tensor([1, 5, 9])\n"
          ]
        }
      ]
    },
    {
      "cell_type": "code",
      "source": [
        "print(x[:2, -1]) # First two rows, last column"
      ],
      "metadata": {
        "colab": {
          "base_uri": "https://localhost:8080/"
        },
        "id": "eerl1g8ZEHTv",
        "outputId": "7d1b8864-3310-419e-ba1c-263723724b73"
      },
      "execution_count": 83,
      "outputs": [
        {
          "output_type": "stream",
          "name": "stdout",
          "text": [
            "tensor([3, 7])\n"
          ]
        }
      ]
    },
    {
      "cell_type": "code",
      "source": [
        "print(x[1:3, :]) # Middle two rows"
      ],
      "metadata": {
        "colab": {
          "base_uri": "https://localhost:8080/"
        },
        "id": "Sb0aNy9FEJNH",
        "outputId": "5e1ff08d-cbe1-4e6b-8938-d6cdb4b40d69"
      },
      "execution_count": 84,
      "outputs": [
        {
          "output_type": "stream",
          "name": "stdout",
          "text": [
            "tensor([[ 4,  5,  6,  7],\n",
            "        [ 8,  9, 10, 11]])\n"
          ]
        }
      ]
    },
    {
      "cell_type": "markdown",
      "source": [
        "# October 14, 2024 work starts here"
      ],
      "metadata": {
        "id": "VdU3nwSLKY5y"
      }
    },
    {
      "cell_type": "markdown",
      "source": [
        "Before you begin, let's try a traditional matrix multiply with NumPy too.\n",
        "\n",
        "## 0. Matrix Multiply with CPU with NumPy\n",
        "\n",
        "**Exercise 1:** Calculate $-2E$, $G+F$, $4F-G$, $HG$, and $GE$ using the following matrix definitions.  Do the exercise on paper first, then check by doing the calculation with NumPy arrays.  Let's use the randomization function in NumPy to help."
      ],
      "metadata": {
        "id": "Bo5TMzgSbNkx"
      }
    },
    {
      "cell_type": "code",
      "source": [
        "## Code solution here\n",
        "import numpy as np\n",
        "\n",
        "# Create a random matrix of size (rows x cols)\n",
        "E = np.random.randn(2, 1)\n",
        "print(E, '\\n', sep='')\n",
        "\n",
        "F = np.random.randn(3, 2)\n",
        "print(F, '\\n', sep='')\n",
        "\n",
        "G = np.random.randn(3, 2)\n",
        "print(G, '\\n', sep='')\n",
        "\n",
        "H = np.random.randn(3, 3)\n",
        "print(H, '\\n', sep='')\n"
      ],
      "metadata": {
        "id": "KXH5ivRNbXXI"
      },
      "execution_count": null,
      "outputs": []
    },
    {
      "cell_type": "markdown",
      "metadata": {
        "id": "x-MmfZ2bpbTc"
      },
      "source": [
        "## 1. Tensor Addition\n",
        "**Task**: Create two 2x2 tensors and add them together using PyTorch.\n",
        "\n",
        "Write your solution below:"
      ]
    },
    {
      "cell_type": "code",
      "execution_count": 85,
      "metadata": {
        "id": "MwH6Zds0pbTc",
        "colab": {
          "base_uri": "https://localhost:8080/"
        },
        "outputId": "f2360b88-9183-4b44-fb2a-1ece804cdc07"
      },
      "outputs": [
        {
          "output_type": "stream",
          "name": "stdout",
          "text": [
            "Tensor A:\n",
            " tensor([[1, 2],\n",
            "        [3, 4]])\n",
            "Tensor B:\n",
            " tensor([[5, 6],\n",
            "        [7, 8]])\n"
          ]
        }
      ],
      "source": [
        "# TODO: Create two 2x2 tensors and add them together\n",
        "A = torch.tensor([[1, 2], [3, 4]])\n",
        "B = torch.tensor([[5, 6], [7, 8]])\n",
        "\n",
        "print(\"Tensor A:\\n\", A)\n",
        "print(\"Tensor B:\\n\", B)\n",
        "\n",
        "# Add the tensors\n"
      ]
    },
    {
      "cell_type": "markdown",
      "metadata": {
        "id": "AXQLHzkJpbTd"
      },
      "source": [
        "## 2. Matrix Multiplication\n",
        "**Task**: Create two 2x3 and 3x2 tensors and multiply them together using matrix multiplication in PyTorch.\n",
        "\n",
        "Write your solution below:"
      ]
    },
    {
      "cell_type": "code",
      "execution_count": 86,
      "metadata": {
        "id": "s_R6vF7tpbTd"
      },
      "outputs": [],
      "source": [
        "# TODO: Create two tensors (A: 2x3 and B: 3x2) and multiply them\n",
        "A = torch.tensor([[1, 2, 3], [4, 5, 6]])\n",
        "B = torch.tensor([[7, 8], [9, 10], [11, 12]])\n",
        "\n",
        "# Perform matrix multiplication\n"
      ]
    },
    {
      "cell_type": "markdown",
      "metadata": {
        "id": "_NRIvykspbTd"
      },
      "source": [
        "## 3. Element-wise Multiplication\n",
        "**Task**: Create two 2x3 tensors and perform element-wise multiplication.\n",
        "\n",
        "Write your solution below:"
      ]
    },
    {
      "cell_type": "code",
      "execution_count": 87,
      "metadata": {
        "id": "846W_s6dpbTd"
      },
      "outputs": [],
      "source": [
        "# TODO: Create two tensors and perform element-wise multiplication\n",
        "A = torch.tensor([[1, 2, 3], [4, 5, 6]])\n",
        "B = torch.tensor([[7, 8, 9], [10, 11, 12]])\n",
        "\n",
        "# Perform element-wise multiplication\n"
      ]
    },
    {
      "cell_type": "markdown",
      "metadata": {
        "id": "mNeFdl1kpbTd"
      },
      "source": [
        "## 4. Tensor Reshaping\n",
        "**Task**: Create a tensor of shape (2x4) and reshape it into a (4x2) tensor using PyTorch's `view()` function.\n",
        "\n",
        "Write your solution below:"
      ]
    },
    {
      "cell_type": "code",
      "execution_count": 88,
      "metadata": {
        "id": "1JtFtIMVpbTe"
      },
      "outputs": [],
      "source": [
        "# TODO: Create a 2x4 tensor and reshape it to 4x2\n",
        "A = torch.tensor([[1, 2, 3, 4], [5, 6, 7, 8]])\n",
        "\n",
        "# Reshape the tensor using the view function\n"
      ]
    },
    {
      "cell_type": "markdown",
      "metadata": {
        "id": "r1r77TDrpbTe"
      },
      "source": [
        "## 5. Tensor Broadcasting\n",
        "**Task**: Use PyTorch's broadcasting feature to add a 1x3 tensor to a 3x3 tensor.  Again, tensor Broadcasting in PyTorch (and other deep learning frameworks like NumPy) refers to a set of rules that allow for element-wise operations on tensors of different shapes, without explicitly replicating data.\n",
        "\n",
        "Broadcasting enables PyTorch to perform arithmetic operations (like addition, multiplication, etc.) on tensors that don’t have exactly the same shape, but are compatible according to specific broadcasting rules.\n",
        "\n",
        "### Broadcasting Rules\n",
        "\n",
        "When performing operations on tensors with different shapes, PyTorch automatically broadcasts them to a common shape by following these rules:\n",
        "\n",
        "1.\tIf the tensors have a different number of dimensions, the one with fewer dimensions is padded with ones on the left side until they have the same number of dimensions.\n",
        "2.\tTensors are compatible when their dimensions match or one of the dimensions is 1. If a dimension is 1 in one tensor and a larger value in the other tensor, the smaller tensor is “stretched” along that axis to match the larger one.\n",
        "3.\tOnce the tensors are compatible, PyTorch performs the operation element-wise as if the smaller tensor had been expanded to match the shape of the larger tensor. However, no actual copying of data occurs, which is efficient both in terms of speed and memory.\n",
        "\n",
        "### Advantages/Disadvantages\n",
        "\n",
        "*\tAdvantage: PyTorch tensors support broadcasting, which allows for operations on tensors of different shapes without explicitly reshaping them. This capability simplifies code and enhances performance when dealing with tensors of different sizes.\n",
        "*\tDifference: While NumPy also supports broadcasting, PyTorch allows this functionality to extend to deep learning tasks and GPU-accelerated computations.\n",
        "\n",
        "Write your solution below:"
      ]
    },
    {
      "cell_type": "code",
      "execution_count": 89,
      "metadata": {
        "id": "DfRgNfsDpbTe",
        "colab": {
          "base_uri": "https://localhost:8080/"
        },
        "outputId": "11c0d43d-fe1d-4562-8967-a80a25e35aa2"
      },
      "outputs": [
        {
          "output_type": "stream",
          "name": "stdout",
          "text": [
            "Broadcasted Addition:\n",
            " tensor([[11, 22, 33],\n",
            "        [14, 25, 36],\n",
            "        [17, 28, 39]])\n"
          ]
        }
      ],
      "source": [
        "# TODO: Use broadcasting to add a 1x3 tensor to a 3x3 tensor\n",
        "A = torch.tensor([[1, 2, 3], [4, 5, 6], [7, 8, 9]])\n",
        "B = torch.tensor([10, 20, 30])\n",
        "\n",
        "# Add with broadcasting\n",
        "C = A + B\n",
        "print(\"Broadcasted Addition:\\n\", C)"
      ]
    },
    {
      "cell_type": "markdown",
      "source": [
        "## 6. Batch Matrix Multiplication\n",
        "**Task**: Batch matrix multiplication is used to perform matrix multiplication on batched 3D tensors. Each slice along the batch dimension is treated as a separate matrix multiplication, and it applies matrix multiplication to all the slices at once.\n",
        "\n",
        "The input tensors to torch.bmm must be 3-dimensional, where:\n",
        "\n",
        "*\tThe first dimension is the batch size.\n",
        "*\tThe second and third dimensions represent the matrices to be multiplied.\n",
        "\n",
        "The shape of the tensors should be (batch_size, n, m) and (batch_size, m, p). The result will have shape (batch_size, n, p).\n",
        "\n",
        "Write your solution below:"
      ],
      "metadata": {
        "id": "fA4eZVoLK2ti"
      }
    },
    {
      "cell_type": "code",
      "source": [
        "# Define two 3D tensors (batch_size, n, m) and (batch_size, m, p)\n",
        "# A is of shape (2, 2, 3) -> two 2x3 matrices\n",
        "A = torch.tensor([[[1, 2, 3], [4, 5, 6]],    # First 2x3 matrix\n",
        "                  [[7, 8, 9], [10, 11, 12]]]) # Second 2x3 matrix\n",
        "\n",
        "# B is of shape (2, 3, 2) -> two 3x2 matrices\n",
        "B = torch.tensor([[[1, 4], [2, 5], [3, 6]],    # First 3x2 matrix\n",
        "                  [[7, 10], [8, 11], [9, 12]]]) # Second 3x2 matrix\n",
        "\n",
        "# Perform batch matrix multiplication (bmm)"
      ],
      "metadata": {
        "id": "lbEzdSqFK9LG"
      },
      "execution_count": 90,
      "outputs": []
    },
    {
      "cell_type": "markdown",
      "source": [
        "## 7. Einstein Summation\n",
        "\n",
        "Einstein summation is a powerful and flexible function in PyTorch that allows for complex tensor operations using Einstein summation notation. It is useful for performing operations such as tensor contraction, transpose, inner products, and outer products with minimal code.\n",
        "\n",
        "Here’s how the Einstein summation convention works:\n",
        "\n",
        "*\tThe subscripts represent the axes of the tensors.\n",
        "*\tThe same subscript between two tensors implies summation along that axis (like matrix multiplication).\n",
        "*\tUnmatched subscripts represent the axes to be retained in the output.\n",
        "\n",
        "### Notation for Matrix Multiplication\n",
        "\n",
        "The notation 'ik,kj->ij' in the torch.einsum function corresponds directly to the mathematical Einstein summation convention for matrix multiplication:\n",
        "* ik: Refers to the two dimensions of matrix A (rows i, columns k).\n",
        "* kj: Refers to the two dimensions of matrix B (rows k, columns j).\n",
        "* ->ij: This indicates that the output will have dimensions i and j (the rows of A and the columns of B).\n",
        "* This notation effectively performs matrix multiplication by summing over the k axis.\n",
        "\n",
        "### Outer Product\n",
        "\n",
        "The outer product of two vectors results in a matrix, where each element is the product of corresponding elements from the two vectors.\n",
        "\n",
        "The notation 'i,j->ij' means:\n",
        "*\ti: Refers to the first vector A.\n",
        "*\tj: Refers to the second vector B.\n",
        "*\t->ij: This indicates that the output will have dimensions i and j (forming a matrix).\n",
        "\n",
        "The result is a matrix where each element is the product of corresponding elements from A and B.\n",
        "\n",
        "### Summation over Specific Axes\n",
        "\n",
        "You can also use torch.einsum to sum over specific axes of a tensor.\n",
        "\n",
        "The notation 'ij->i' means:\n",
        "*\tij: Refers to a 2D tensor (matrix A).\n",
        "*\t->i: This means we sum over the j axis (columns) to keep only the i axis (rows).\n"
      ],
      "metadata": {
        "id": "vHawl4mZOPgy"
      }
    },
    {
      "cell_type": "code",
      "source": [
        "# Define two 2D tensors (matrices)\n",
        "A = torch.tensor([[1, 2], [3, 4]])  # Shape: (2, 2)\n",
        "B = torch.tensor([[5, 6], [7, 8]])  # Shape: (2, 2)\n",
        "\n",
        "# Matrix multiplication using einsum\n",
        "\n",
        "# Outer product using einsum\n",
        "A = torch.tensor([1, 2, 3])  # Shape: (3)\n",
        "B = torch.tensor([4, 5, 6])  # Shape: (3)\n",
        "\n",
        "# Sum over the rows (axis 0)\n",
        "A = torch.tensor([[1, 2, 3], [4, 5, 6]])  # Shape: (2, 3)"
      ],
      "metadata": {
        "id": "rsvKboY_O-Ke"
      },
      "execution_count": 91,
      "outputs": []
    },
    {
      "cell_type": "markdown",
      "metadata": {
        "id": "zdpizfGPpbTe"
      },
      "source": [
        "## 8. Create Random Tensors\n",
        "**Task**: Create two random tensors of shape (3x3) and add them together. Use PyTorch's `torch.rand()` to generate random values between 0 and 1.\n",
        "\n",
        "Write your solution below:"
      ]
    },
    {
      "cell_type": "code",
      "execution_count": 92,
      "metadata": {
        "id": "9JnT-wN0pbTf"
      },
      "outputs": [],
      "source": [
        "# TODO: Create two random 3x3 tensors and add them together\n",
        "A = torch.rand(3, 3)\n",
        "B = torch.rand(3, 3)\n",
        "\n",
        "# Add the random tensors\n"
      ]
    },
    {
      "cell_type": "markdown",
      "source": [
        "### GPU support\n",
        "\n",
        "A crucial feature of PyTorch is the support of GPUs, short for Graphics Processing Unit. A GPU can perform many thousands of small operations in parallel, making it very well suitable for performing large matrix operations in neural networks. When comparing GPUs to CPUs, we can list the following main differences (credit: [Kevin Krewell, 2009](https://blogs.nvidia.com/blog/2009/12/16/whats-the-difference-between-a-cpu-and-a-gpu/))\n",
        "\n",
        "\n",
        "\n",
        "CPUs and GPUs have both different advantages and disadvantages, which is why many computers contain both components and use them for different tasks. In case you are not familiar with GPUs, you can read up more details in this [NVIDIA blog post](https://blogs.nvidia.com/blog/2009/12/16/whats-the-difference-between-a-cpu-and-a-gpu/) or [here](https://www.intel.com/content/www/us/en/products/docs/processors/what-is-a-gpu.html).\n",
        "\n",
        "GPUs can accelerate the training of your network up to a factor of $100$ which is essential for large neural networks. PyTorch implements a lot of functionality for supporting GPUs (mostly those of NVIDIA due to the libraries [CUDA](https://developer.nvidia.com/cuda-zone) and [cuDNN](https://developer.nvidia.com/cudnn))."
      ],
      "metadata": {
        "id": "m63_22BFFY8o"
      }
    },
    {
      "cell_type": "markdown",
      "source": [
        "![comparison_CPU_GPU.png](data:image/png;base64,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)"
      ],
      "metadata": {
        "id": "zINde4osFr8R"
      }
    },
    {
      "cell_type": "markdown",
      "source": [
        "First, let's check whether you have a GPU available:"
      ],
      "metadata": {
        "id": "-9g8MZlVGVdC"
      }
    },
    {
      "cell_type": "code",
      "source": [
        "gpu_avail = torch.cuda.is_available()\n",
        "print(f\"Is the GPU available? {gpu_avail}\")"
      ],
      "metadata": {
        "colab": {
          "base_uri": "https://localhost:8080/"
        },
        "id": "wOUpnzOrGMfv",
        "outputId": "b9cd5a40-b43e-43e3-bdd8-f3c7799869f4"
      },
      "execution_count": 93,
      "outputs": [
        {
          "output_type": "stream",
          "name": "stdout",
          "text": [
            "Is the GPU available? False\n"
          ]
        }
      ]
    },
    {
      "cell_type": "markdown",
      "source": [
        "If you have a GPU on your computer but the command above returns False, make sure you have the correct CUDA-version installed. The `dl2024` environment comes with the CUDA 12.4, which is selected for the Snellius supercomputer. Please change it if necessary. On Google Colab, make sure that you have selected a GPU in your runtime setup (in the menu, check under `Runtime -> Change runtime type`).\n",
        "\n",
        "By default, all tensors you create are stored on the CPU. We can push a tensor to the GPU by using the function `.to(...)`, or `.cuda()`. However, it is often a good practice to define a `device` object in your code which points to the GPU if you have one, and otherwise to the CPU. Then, you can write your code with respect to this device object, and it allows you to run the same code on both a CPU-only system, and one with a GPU. Let's try it below. We can specify the device as follows:"
      ],
      "metadata": {
        "id": "R_Ps_CsyGZBh"
      }
    },
    {
      "cell_type": "code",
      "source": [
        "device = torch.device(\"cuda\") if torch.cuda.is_available() else torch.device(\"cpu\")\n",
        "print(\"Device\", device)"
      ],
      "metadata": {
        "colab": {
          "base_uri": "https://localhost:8080/"
        },
        "id": "d9CLUARFGdTa",
        "outputId": "839ebc5f-dfae-4d79-827b-4168b996c0bd"
      },
      "execution_count": 94,
      "outputs": [
        {
          "output_type": "stream",
          "name": "stdout",
          "text": [
            "Device cpu\n"
          ]
        }
      ]
    },
    {
      "cell_type": "markdown",
      "source": [
        "In case you have a GPU, you should now see the attribute `device='cuda:0'` being printed next to your tensor. The zero next to cuda indicates that this is the zero-th GPU device on your computer. PyTorch also supports multi-GPU systems, but this you will only need once you have very big networks to train (if interested, see the [PyTorch documentation](https://pytorch.org/docs/stable/distributed.html#distributed-basics)). We can also compare the runtime of a large matrix multiplication on the CPU with a operation on the GPU:"
      ],
      "metadata": {
        "id": "9NaZqHd-GkWZ"
      }
    },
    {
      "cell_type": "code",
      "source": [
        "import time\n",
        "\n",
        "x = torch.randn(5000, 5000)\n",
        "\n",
        "## CPU version\n",
        "start_time = time.time()\n",
        "_ = torch.matmul(x, x)\n",
        "end_time = time.time()\n",
        "print(f\"CPU time: {(end_time - start_time):6.5f}s\")\n",
        "\n",
        "## GPU version\n",
        "x = x.to(device)\n",
        "_ = torch.matmul(x, x)  # First operation to 'burn in' GPU\n",
        "# CUDA is asynchronous, so we need to use different timing functions\n",
        "start = torch.cuda.Event(enable_timing=True)\n",
        "end = torch.cuda.Event(enable_timing=True)\n",
        "start.record()\n",
        "_ = torch.matmul(x, x)\n",
        "end.record()\n",
        "torch.cuda.synchronize()  # Waits for everything to finish running on the GPU\n",
        "print(f\"GPU time: {0.001 * start.elapsed_time(end):6.5f}s\")  # Milliseconds to seconds"
      ],
      "metadata": {
        "colab": {
          "base_uri": "https://localhost:8080/",
          "height": 367
        },
        "id": "ZtphJxCcGs4P",
        "outputId": "2099c42a-9fe9-482b-a6f5-141d63d8c47c"
      },
      "execution_count": 95,
      "outputs": [
        {
          "output_type": "stream",
          "name": "stdout",
          "text": [
            "CPU time: 3.82142s\n"
          ]
        },
        {
          "output_type": "error",
          "ename": "RuntimeError",
          "evalue": "Found no NVIDIA driver on your system. Please check that you have an NVIDIA GPU and installed a driver from http://www.nvidia.com/Download/index.aspx",
          "traceback": [
            "\u001b[0;31m---------------------------------------------------------------------------\u001b[0m",
            "\u001b[0;31mRuntimeError\u001b[0m                              Traceback (most recent call last)",
            "\u001b[0;32m<ipython-input-95-94aa8d0b94d7>\u001b[0m in \u001b[0;36m<cell line: 17>\u001b[0;34m()\u001b[0m\n\u001b[1;32m     15\u001b[0m \u001b[0mstart\u001b[0m \u001b[0;34m=\u001b[0m \u001b[0mtorch\u001b[0m\u001b[0;34m.\u001b[0m\u001b[0mcuda\u001b[0m\u001b[0;34m.\u001b[0m\u001b[0mEvent\u001b[0m\u001b[0;34m(\u001b[0m\u001b[0menable_timing\u001b[0m\u001b[0;34m=\u001b[0m\u001b[0;32mTrue\u001b[0m\u001b[0;34m)\u001b[0m\u001b[0;34m\u001b[0m\u001b[0;34m\u001b[0m\u001b[0m\n\u001b[1;32m     16\u001b[0m \u001b[0mend\u001b[0m \u001b[0;34m=\u001b[0m \u001b[0mtorch\u001b[0m\u001b[0;34m.\u001b[0m\u001b[0mcuda\u001b[0m\u001b[0;34m.\u001b[0m\u001b[0mEvent\u001b[0m\u001b[0;34m(\u001b[0m\u001b[0menable_timing\u001b[0m\u001b[0;34m=\u001b[0m\u001b[0;32mTrue\u001b[0m\u001b[0;34m)\u001b[0m\u001b[0;34m\u001b[0m\u001b[0;34m\u001b[0m\u001b[0m\n\u001b[0;32m---> 17\u001b[0;31m \u001b[0mstart\u001b[0m\u001b[0;34m.\u001b[0m\u001b[0mrecord\u001b[0m\u001b[0;34m(\u001b[0m\u001b[0;34m)\u001b[0m\u001b[0;34m\u001b[0m\u001b[0;34m\u001b[0m\u001b[0m\n\u001b[0m\u001b[1;32m     18\u001b[0m \u001b[0m_\u001b[0m \u001b[0;34m=\u001b[0m \u001b[0mtorch\u001b[0m\u001b[0;34m.\u001b[0m\u001b[0mmatmul\u001b[0m\u001b[0;34m(\u001b[0m\u001b[0mx\u001b[0m\u001b[0;34m,\u001b[0m \u001b[0mx\u001b[0m\u001b[0;34m)\u001b[0m\u001b[0;34m\u001b[0m\u001b[0;34m\u001b[0m\u001b[0m\n\u001b[1;32m     19\u001b[0m \u001b[0mend\u001b[0m\u001b[0;34m.\u001b[0m\u001b[0mrecord\u001b[0m\u001b[0;34m(\u001b[0m\u001b[0;34m)\u001b[0m\u001b[0;34m\u001b[0m\u001b[0;34m\u001b[0m\u001b[0m\n",
            "\u001b[0;32m/usr/local/lib/python3.10/dist-packages/torch/cuda/streams.py\u001b[0m in \u001b[0;36mrecord\u001b[0;34m(self, stream)\u001b[0m\n\u001b[1;32m    182\u001b[0m         \"\"\"\n\u001b[1;32m    183\u001b[0m         \u001b[0;32mif\u001b[0m \u001b[0mstream\u001b[0m \u001b[0;32mis\u001b[0m \u001b[0;32mNone\u001b[0m\u001b[0;34m:\u001b[0m\u001b[0;34m\u001b[0m\u001b[0;34m\u001b[0m\u001b[0m\n\u001b[0;32m--> 184\u001b[0;31m             \u001b[0mstream\u001b[0m \u001b[0;34m=\u001b[0m \u001b[0mtorch\u001b[0m\u001b[0;34m.\u001b[0m\u001b[0mcuda\u001b[0m\u001b[0;34m.\u001b[0m\u001b[0mcurrent_stream\u001b[0m\u001b[0;34m(\u001b[0m\u001b[0;34m)\u001b[0m\u001b[0;34m\u001b[0m\u001b[0;34m\u001b[0m\u001b[0m\n\u001b[0m\u001b[1;32m    185\u001b[0m         \u001b[0msuper\u001b[0m\u001b[0;34m(\u001b[0m\u001b[0;34m)\u001b[0m\u001b[0;34m.\u001b[0m\u001b[0mrecord\u001b[0m\u001b[0;34m(\u001b[0m\u001b[0mstream\u001b[0m\u001b[0;34m)\u001b[0m\u001b[0;34m\u001b[0m\u001b[0;34m\u001b[0m\u001b[0m\n\u001b[1;32m    186\u001b[0m \u001b[0;34m\u001b[0m\u001b[0m\n",
            "\u001b[0;32m/usr/local/lib/python3.10/dist-packages/torch/cuda/__init__.py\u001b[0m in \u001b[0;36mcurrent_stream\u001b[0;34m(device)\u001b[0m\n\u001b[1;32m    915\u001b[0m             \u001b[0;34m(\u001b[0m\u001b[0mdefault\u001b[0m\u001b[0;34m)\u001b[0m\u001b[0;34m.\u001b[0m\u001b[0;34m\u001b[0m\u001b[0;34m\u001b[0m\u001b[0m\n\u001b[1;32m    916\u001b[0m     \"\"\"\n\u001b[0;32m--> 917\u001b[0;31m     \u001b[0m_lazy_init\u001b[0m\u001b[0;34m(\u001b[0m\u001b[0;34m)\u001b[0m\u001b[0;34m\u001b[0m\u001b[0;34m\u001b[0m\u001b[0m\n\u001b[0m\u001b[1;32m    918\u001b[0m     streamdata = torch._C._cuda_getCurrentStream(\n\u001b[1;32m    919\u001b[0m         \u001b[0m_get_device_index\u001b[0m\u001b[0;34m(\u001b[0m\u001b[0mdevice\u001b[0m\u001b[0;34m,\u001b[0m \u001b[0moptional\u001b[0m\u001b[0;34m=\u001b[0m\u001b[0;32mTrue\u001b[0m\u001b[0;34m)\u001b[0m\u001b[0;34m\u001b[0m\u001b[0;34m\u001b[0m\u001b[0m\n",
            "\u001b[0;32m/usr/local/lib/python3.10/dist-packages/torch/cuda/__init__.py\u001b[0m in \u001b[0;36m_lazy_init\u001b[0;34m()\u001b[0m\n\u001b[1;32m    312\u001b[0m         \u001b[0;32mif\u001b[0m \u001b[0;34m\"CUDA_MODULE_LOADING\"\u001b[0m \u001b[0;32mnot\u001b[0m \u001b[0;32min\u001b[0m \u001b[0mos\u001b[0m\u001b[0;34m.\u001b[0m\u001b[0menviron\u001b[0m\u001b[0;34m:\u001b[0m\u001b[0;34m\u001b[0m\u001b[0;34m\u001b[0m\u001b[0m\n\u001b[1;32m    313\u001b[0m             \u001b[0mos\u001b[0m\u001b[0;34m.\u001b[0m\u001b[0menviron\u001b[0m\u001b[0;34m[\u001b[0m\u001b[0;34m\"CUDA_MODULE_LOADING\"\u001b[0m\u001b[0;34m]\u001b[0m \u001b[0;34m=\u001b[0m \u001b[0;34m\"LAZY\"\u001b[0m\u001b[0;34m\u001b[0m\u001b[0;34m\u001b[0m\u001b[0m\n\u001b[0;32m--> 314\u001b[0;31m         \u001b[0mtorch\u001b[0m\u001b[0;34m.\u001b[0m\u001b[0m_C\u001b[0m\u001b[0;34m.\u001b[0m\u001b[0m_cuda_init\u001b[0m\u001b[0;34m(\u001b[0m\u001b[0;34m)\u001b[0m\u001b[0;34m\u001b[0m\u001b[0;34m\u001b[0m\u001b[0m\n\u001b[0m\u001b[1;32m    315\u001b[0m         \u001b[0;31m# Some of the queued calls may reentrantly call _lazy_init();\u001b[0m\u001b[0;34m\u001b[0m\u001b[0;34m\u001b[0m\u001b[0m\n\u001b[1;32m    316\u001b[0m         \u001b[0;31m# we need to just return without initializing in that case.\u001b[0m\u001b[0;34m\u001b[0m\u001b[0;34m\u001b[0m\u001b[0m\n",
            "\u001b[0;31mRuntimeError\u001b[0m: Found no NVIDIA driver on your system. Please check that you have an NVIDIA GPU and installed a driver from http://www.nvidia.com/Download/index.aspx"
          ]
        }
      ]
    },
    {
      "cell_type": "markdown",
      "source": [
        "Depending on the size of the operation and the CPU/GPU in your system, the speedup of this operation can be >50x. As `matmul` operations are very common in neural networks, we can already see the great benefit of training a NN on a GPU. The time estimate can be relatively noisy here because we haven't run it for multiple times. Feel free to extend this, but it also takes longer to run.\n",
        "\n",
        "When generating random numbers, the seed between CPU and GPU is not synchronized. Hence, we need to set the seed on the GPU separately to ensure a reproducible code. Note that due to different GPU architectures, running the same code on different GPUs does not guarantee the same random numbers. Still, we don't want that our code gives us a different output every time we run it on the exact same hardware. Hence, we also set the seed on the GPU:"
      ],
      "metadata": {
        "id": "SilXpWU9Gp_3"
      }
    },
    {
      "cell_type": "code",
      "source": [
        "# GPU operations have a separate seed we also want to set\n",
        "if torch.cuda.is_available():\n",
        "    torch.cuda.manual_seed(42)\n",
        "    torch.cuda.manual_seed_all(42)\n",
        "\n",
        "# Additionally, some operations on a GPU are implemented stochastic for efficiency\n",
        "# We want to ensure that all operations are deterministic on GPU (if used) for reproducibility\n",
        "torch.backends.cudnn.deterministic = True\n",
        "torch.backends.cudnn.benchmark = False"
      ],
      "metadata": {
        "id": "gBW9O8dNGxVd"
      },
      "execution_count": null,
      "outputs": []
    },
    {
      "cell_type": "markdown",
      "metadata": {
        "id": "Xs555eIHpbTf"
      },
      "source": [
        "## Conclusion\n",
        "You've now practiced some of the basic operations in PyTorch, such as matrix multiplication, element-wise operations, reshaping, and broadcasting. PyTorch makes these operations easy to perform, even with more complex models and tensors. Keep exploring PyTorch by experimenting with more tensor operations and applying them to real-world tasks!"
      ]
    }
  ]
}